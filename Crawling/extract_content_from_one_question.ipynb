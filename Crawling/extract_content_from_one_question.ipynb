{
 "cells": [
  {
   "cell_type": "code",
   "execution_count": 1,
   "metadata": {},
   "outputs": [],
   "source": [
    "from selenium import webdriver\n",
    "from selenium.webdriver.common.by import By\n",
    "from selenium.webdriver.support.ui import WebDriverWait\n",
    "from selenium.webdriver.support import expected_conditions as EC\n",
    "from selenium.common.exceptions import TimeoutException\n",
    "import time"
   ]
  },
  {
   "cell_type": "code",
   "execution_count": 2,
   "metadata": {},
   "outputs": [],
   "source": [
    "url = 'https://www.quora.com/What-is-time-in-space'"
   ]
  },
  {
   "cell_type": "code",
   "execution_count": 3,
   "metadata": {},
   "outputs": [],
   "source": [
    "def extractQuestionTitle(driver):\n",
    "    try:\n",
    "        question_title = driver.find_element_by_xpath('.//span[contains(@class, \"ui_qtext_rendered_qtext\")]').text\n",
    "    except Exception as e:\n",
    "        question_title = 'error'\n",
    "    return question_title"
   ]
  },
  {
   "cell_type": "code",
   "execution_count": 4,
   "metadata": {},
   "outputs": [],
   "source": [
    "def extractTopics(driver):\n",
    "    topic_list = []\n",
    "    \n",
    "    try:\n",
    "        topic_area = driver.find_element_by_xpath(\".//div[contains(@class,'QuestionTopicHorizontalList')]\")\n",
    "        \n",
    "    except:\n",
    "        return topic_list\n",
    "    \n",
    "    try:\n",
    "        topics = topic_area.find_elements_by_xpath(\".//span[@class = 'TopicName TopicNameSpan']\")\n",
    "        for topic in topics:\n",
    "            topic_list.append(topic.text)\n",
    "    except:\n",
    "        topic_list = ['error']\n",
    "           \n",
    "    return topic_list"
   ]
  },
  {
   "cell_type": "code",
   "execution_count": 5,
   "metadata": {},
   "outputs": [],
   "source": [
    "def scrollDownPage(driver, speed):\n",
    "    current_scroll_position, new_height= 0, 1\n",
    "    while current_scroll_position <= new_height:\n",
    "        current_scroll_position += speed\n",
    "        driver.execute_script(\"window.scrollTo(0, {});\".format(current_scroll_position))\n",
    "        new_height = driver.execute_script(\"return document.body.scrollHeight\")"
   ]
  },
  {
   "cell_type": "code",
   "execution_count": 6,
   "metadata": {},
   "outputs": [],
   "source": [
    "def extractRespondContent(driver):\n",
    "    try:\n",
    "        respond_content = driver.find_element_by_xpath(\".//div[@class = 'q-text']\").text\n",
    "    except Exception as e:\n",
    "        repond_content = 'error'\n",
    "        \n",
    "    return respond_content"
   ]
  },
  {
   "cell_type": "code",
   "execution_count": 7,
   "metadata": {},
   "outputs": [],
   "source": [
    "def extractRespondViewAndUpvote(driver):\n",
    "    try:\n",
    "        respond_stat = driver.find_element_by_xpath(\".//div[@class = 'q-text qu-mt--small qu-color--gray_light qu-fontSize--small qu-passColorToLinks']\").text\n",
    "\n",
    "        view_text = respond_stat.split(' view')[0]\n",
    "        if 'k' in view_text:\n",
    "            respond_view = int(float((view_text.split('k'))[0]) * 1000)\n",
    "        elif 'm' in view_text:\n",
    "            respond_view = int(float((view_text.split('m'))[0]) * 1000000)\n",
    "        else:\n",
    "            respond_view = int(view_text)\n",
    "\n",
    "        if 'Upvoter' in respond_stat:\n",
    "            upvote_text = (respond_stat.split('View ')[1]).split(' ')[0]\n",
    "            if 'k' in upvote_text:\n",
    "                respond_upvote = int(float((upvote_text.split('k'))[0]) * 1000)\n",
    "            elif 'm' in upvote_text:\n",
    "                respond_upvote = int(float((upvote_text.split('m'))[0]) * 1000000)\n",
    "            else:\n",
    "                respond_upvote = int(upvote_text)\n",
    "        else:\n",
    "            respond_upvote = 0\n",
    "\n",
    "    except:\n",
    "        respond_view = 0\n",
    "        respond_upvote = 0\n",
    "        \n",
    "    return respond_view, respond_upvote"
   ]
  },
  {
   "cell_type": "code",
   "execution_count": 8,
   "metadata": {},
   "outputs": [],
   "source": [
    "def extractDate(driver):\n",
    "    try:\n",
    "        log = driver.find_element_by_xpath(\".//p[@class = 'log_action_bar']\")\n",
    "        date = log.text.split('· ')[1]\n",
    "    except:\n",
    "        date = 'error'\n",
    "    \n",
    "    return date"
   ]
  },
  {
   "cell_type": "code",
   "execution_count": 9,
   "metadata": {},
   "outputs": [],
   "source": [
    "def extractAuthor(driver):\n",
    "    block_header = driver.find_element_by_xpath (\".//div[@class = 'feed_item_activity']\")\n",
    "    try:\n",
    "        user_name = block_header.find_element_by_xpath(\".//span[@class = 'anon_user']\").text\n",
    "    except Exception:\n",
    "        user_name = block_header.find_element_by_xpath(\".//a[@class = 'user']\").text\n",
    "    except Exception as e:\n",
    "        user_name = 'error'\n",
    "    \n",
    "    return user_name"
   ]
  },
  {
   "cell_type": "code",
   "execution_count": 10,
   "metadata": {},
   "outputs": [],
   "source": [
    "def log_stat_extraction(driver, driver2):\n",
    "    # return element\n",
    "    respond_author_list = []\n",
    "    respond_content_list = []\n",
    "    respond_upvote_list = []\n",
    "    respond_view_list = []\n",
    "    respond_date_list = []\n",
    "    respond_count = 0\n",
    "    question_auther = ''\n",
    "    question_create_time = ''\n",
    "    \n",
    "    try:\n",
    "        block_list = driver.find_elements_by_xpath(\".//div[@class = 'pagedlist_item']\")\n",
    "    except:\n",
    "        respond_author_list =  ['error']\n",
    "        respond_content_list = ['error']\n",
    "        respond_upvote_list = ['error']\n",
    "        respond_view_list = ['error']\n",
    "        respond_date_list = ['error']\n",
    "        respond_count = 0\n",
    "        question_auther = 'error'\n",
    "        question_create_time = 'error'\n",
    "        \n",
    "        return respond_author_list, respond_content_list, respond_upvote_list, respond_view_list, respond_date_list, respond_count, question_auther, question_create_time\n",
    "        \n",
    "    for block in block_list:\n",
    "        block_error = []\n",
    "        \n",
    "        block_header = block.find_element_by_xpath (\".//div[@class = 'feed_item_activity']\").text\n",
    "        \n",
    "        try:\n",
    "            block_revision = block.find_element_by_xpath (\".//div[@class = 'revision']\").text\n",
    "        except:\n",
    "            continue\n",
    "            \n",
    "        if 'answer has since been deleted' in block_revision:\n",
    "            continue\n",
    "        elif 'deleted' in block_header:\n",
    "            continue\n",
    "        \n",
    "        if 'Answer' in block_header:\n",
    "            # click the answer link\n",
    "            try:\n",
    "                url2 = block.find_element_by_xpath (\".//div[@class = 'feed_item_activity']/a\").get_attribute('href')\n",
    "                driver2.get(str(url2))\n",
    "                respond_count += 1\n",
    "            except Exception as e:\n",
    "                continue\n",
    "                \n",
    "            # extract author name(log page and driver 1)\n",
    "            respond_author = extractAuthor(block)\n",
    "            respond_author_list.append(respond_author)\n",
    "            \n",
    "            # extract content\n",
    "            respond_content = extractRespondContent(driver2)\n",
    "            respond_content_list.append(respond_content)\n",
    "                \n",
    "            # extract views and upvote\n",
    "            respond_view, respong_upvote = extractRespondViewAndUpvote(driver2)\n",
    "            respond_view_list.append(respond_view)\n",
    "            respond_upvote_list.append(respong_upvote)\n",
    "                \n",
    "            # extract date(log page and driver 1)\n",
    "            respond_date = extractDate(block)\n",
    "            respond_date_list.append(respond_date)\n",
    "            \n",
    "        elif 'Question added by' in block_header:\n",
    "            # extract author name\n",
    "            question_author = extractAuthor(block)\n",
    "            \n",
    "            # extract date\n",
    "            question_create_time = extractDate(block)\n",
    "\n",
    "    return respond_author_list, respond_content_list, respond_upvote_list, respond_view_list, respond_date_list, respond_count, question_author, question_create_time\n",
    "\n"
   ]
  },
  {
   "cell_type": "code",
   "execution_count": 11,
   "metadata": {},
   "outputs": [],
   "source": [
    "def extractNoOfFollowerAndView(driver):\n",
    "    try:\n",
    "        stats = driver.find_elements_by_xpath(\".//div[@class = 'u-flex u-flex-align--center u-padding-vert--xs u-text--gray-light pass_color_to_child_links u-sans-font-main--small']\")\n",
    "        no_of_follower = int((stats[0].text.split(' '))[0])\n",
    "        no_of_view = (stats[1].text.split(' '))[0]\n",
    "    except:\n",
    "        no_of_follower = 0\n",
    "        no_of_view = 0\n",
    "        \n",
    "    return no_of_follower, no_of_view"
   ]
  },
  {
   "cell_type": "code",
   "execution_count": 12,
   "metadata": {},
   "outputs": [],
   "source": [
    "def extractQuestion(driver, driver2, url):\n",
    "    data = {}\n",
    "\n",
    "    driver.get(url+'/log')\n",
    "    data['question_title'] = extractQuestionTitle(driver)\n",
    "    data['topic_list'] = extractTopics(driver)\n",
    "    \n",
    "    scrollDownPage(driver, speed = 5)\n",
    "    data['name_list'], data['ans_list'], data['upvote_list'], data['view_list'], data['date_list'], data['respond_collected'], data['question_author'], data['create_time'] = log_stat_extraction(driver, driver2)\n",
    "    \n",
    "    data['no_of_follower'], data['no_of_view'] = extractNoOfFollowerAndView(driver)\n",
    "    \n",
    "    for key, value in data.items():\n",
    "        print(value)"
   ]
  },
  {
   "cell_type": "code",
   "execution_count": 13,
   "metadata": {},
   "outputs": [],
   "source": [
    "driver = webdriver.Chrome(executable_path='./chromedriver')\n",
    "driver2 = webdriver.Chrome(executable_path='./chromedriver')"
   ]
  },
  {
   "cell_type": "code",
   "execution_count": 14,
   "metadata": {},
   "outputs": [
    {
     "name": "stdout",
     "output_type": "stream",
     "text": [
      "What is time in space?\n",
      "['Spacetime', 'Time (physics)', 'Physics']\n",
      "['Jess H. Brewer', 'Alfred Dominic Vella']\n",
      "[\"I like Alfred's first suggestion. You have asked a question that can be interpreted in many ways, but none with enough clarity to make a serious answer possible.\", 'Perhaps in the future when someone is bad they get locked away on some penal colony far away?\\nIf you mean how space and time fit together, then it appears that they are not so different in that by changing our speed relative to others we can tilt or rotate our space into their time and vice versa.\\nOf course they are not exactly the same because the tilting can only go so far being limited to the speed of light.']\n",
      "[0, 1]\n",
      "[323, 141]\n",
      "['Mar 11 2016', 'Mar 10 2016']\n",
      "2\n",
      "Yosef Alzubaidi\n",
      "Mar 10 2016\n",
      "11\n",
      "2,686\n"
     ]
    }
   ],
   "source": [
    "extractQuestion(driver, driver2, url)"
   ]
  },
  {
   "cell_type": "code",
   "execution_count": 15,
   "metadata": {},
   "outputs": [],
   "source": [
    "driver.quit()\n",
    "driver2.quit()"
   ]
  },
  {
   "cell_type": "code",
   "execution_count": null,
   "metadata": {},
   "outputs": [],
   "source": []
  },
  {
   "cell_type": "code",
   "execution_count": null,
   "metadata": {},
   "outputs": [],
   "source": []
  }
 ],
 "metadata": {
  "kernelspec": {
   "display_name": "Python 3",
   "language": "python",
   "name": "python3"
  },
  "language_info": {
   "codemirror_mode": {
    "name": "ipython",
    "version": 3
   },
   "file_extension": ".py",
   "mimetype": "text/x-python",
   "name": "python",
   "nbconvert_exporter": "python",
   "pygments_lexer": "ipython3",
   "version": "3.5.2"
  }
 },
 "nbformat": 4,
 "nbformat_minor": 4
}
