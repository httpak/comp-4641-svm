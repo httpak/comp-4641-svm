{
 "cells": [
  {
   "cell_type": "code",
   "execution_count": null,
   "metadata": {},
   "outputs": [],
   "source": [
    "def extractTopics(driver): # modified\n",
    "    topic_list = []\n",
    "    \n",
    "    try:\n",
    "        topic_area = driver.find_element_by_xpath(\".//div[contains(@class,'QuestionTopicHorizontalList')]\")\n",
    "    except:\n",
    "        topic_list = ['error']\n",
    "        return topic_list\n",
    "    \n",
    "    topic_list = topic_area.text.split('\\n')\n",
    "           \n",
    "    return topic_list"
   ]
  }
 ],
 "metadata": {
  "kernelspec": {
   "display_name": "Python 3",
   "language": "python",
   "name": "python3"
  },
  "language_info": {
   "codemirror_mode": {
    "name": "ipython",
    "version": 3
   },
   "file_extension": ".py",
   "mimetype": "text/x-python",
   "name": "python",
   "nbconvert_exporter": "python",
   "pygments_lexer": "ipython3",
   "version": "3.5.2"
  }
 },
 "nbformat": 4,
 "nbformat_minor": 2
}
